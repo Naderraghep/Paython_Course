{
 "cells": [
  {
   "cell_type": "code",
   "execution_count": 5,
   "id": "d8b4fa1a-2410-4c32-a447-a8fc2c0182ac",
   "metadata": {},
   "outputs": [
    {
     "name": "stdout",
     "output_type": "stream",
     "text": [
      "1\n",
      "2\n",
      "3\n",
      "4\n",
      "5\n",
      "6\n",
      "7\n",
      "8\n",
      "9\n",
      "10\n"
     ]
    }
   ],
   "source": [
    "#Exercise 1: Print First 10 natural numbers using while loop\n",
    "\n",
    "x=0\n",
    "while x < 10:\n",
    "    x=x+1\n",
    "    print(x)\n",
    "\n",
    "\n",
    "\n"
   ]
  },
  {
   "cell_type": "code",
   "execution_count": 25,
   "id": "22bda48a-f61f-40b7-a05b-b95cd6cc7b09",
   "metadata": {},
   "outputs": [
    {
     "name": "stdout",
     "output_type": "stream",
     "text": [
      "[100, 200, 300, 400, 500]\n"
     ]
    }
   ],
   "source": [
    "#Exercise 2: Reverse this list [500, 400, 300, 200, 100] in Python\n",
    "n=[500,400,300,200,100]\n",
    "n=[n[4],n[3],n[2],n[1],n[0]]\n",
    "print(n)"
   ]
  },
  {
   "cell_type": "code",
   "execution_count": 29,
   "id": "b97f9215-ba6b-4e0d-ab7d-441a1814bf3a",
   "metadata": {},
   "outputs": [
    {
     "name": "stdout",
     "output_type": "stream",
     "text": [
      "428\n"
     ]
    }
   ],
   "source": [
    "#Exercise 3: Calculate the sum of all numbers in the following list [55,32,75,86,49,11,120]\n",
    "k=[55,32,75,86,49,11,120]\n",
    "sum=k[0]+k[1]+k[2]+k[3]+k[4]+k[5]+k[6]\n",
    "print(sum)"
   ]
  },
  {
   "cell_type": "code",
   "execution_count": 45,
   "id": "6db74711-89fe-49fd-8bdf-f7d4fc22ac9f",
   "metadata": {},
   "outputs": [
    {
     "name": "stdout",
     "output_type": "stream",
     "text": [
      "[4, 6, 12, 12, 20, 18, 28]\n"
     ]
    }
   ],
   "source": [
    "\n",
    "#Exercise 4: Create a list by picking an odd-index items from the first list and even index items from the second\n",
    "#Given two lists, l1 and l2, write a program to create a third list l3 by picking\n",
    "#an odd-index element from the list l1 and even index elements from the list l2.\n",
    "#l1 = [3, 6, 9, 12, 15, 18, 21]\n",
    "#l2 = [4, 8, 12, 16, 20, 24, 28]\n",
    "\n",
    "l1 = [3, 6, 9, 12, 15, 18, 21]\n",
    "l2 = [4, 8, 12, 16, 20, 24, 28]\n",
    "l3=[l1[1],l1[3],l1[5]]\n",
    "l3.insert(0,l2[0])\n",
    "l3.insert(2,l2[2])\n",
    "l3.insert(4,l2[4])\n",
    "l3.insert(6,l2[6])\n",
    "print(l3)\n"
   ]
  },
  {
   "cell_type": "code",
   "execution_count": 20,
   "id": "c3a23d4d-30b4-4112-9921-618a14390ae5",
   "metadata": {},
   "outputs": [
    {
     "name": "stdout",
     "output_type": "stream",
     "text": [
      "10\n",
      "20\n",
      "55\n"
     ]
    }
   ],
   "source": [
    "#Exercise 5: Display numbers divisible by 5 from a list [10, 20, 33, 46, 55]\n",
    "l5=[10, 20, 33, 46, 55]\n",
    "for i in range (0,5):\n",
    "    num=l5[i]\n",
    "    if num %5==0:\n",
    "        print(num)\n",
    "      "
   ]
  },
  {
   "cell_type": "code",
   "execution_count": null,
   "id": "50fa3dcc-2543-43f4-801b-c99e5687df5c",
   "metadata": {},
   "outputs": [],
   "source": []
  }
 ],
 "metadata": {
  "kernelspec": {
   "display_name": "Python 3 (ipykernel)",
   "language": "python",
   "name": "python3"
  },
  "language_info": {
   "codemirror_mode": {
    "name": "ipython",
    "version": 3
   },
   "file_extension": ".py",
   "mimetype": "text/x-python",
   "name": "python",
   "nbconvert_exporter": "python",
   "pygments_lexer": "ipython3",
   "version": "3.11.7"
  }
 },
 "nbformat": 4,
 "nbformat_minor": 5
}
