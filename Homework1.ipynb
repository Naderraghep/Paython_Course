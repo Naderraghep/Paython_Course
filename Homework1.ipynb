{
 "cells": [
  {
   "cell_type": "code",
   "execution_count": 5,
   "id": "0ab7fc16-9411-4125-84cf-1111fe7f94e6",
   "metadata": {},
   "outputs": [
    {
     "name": "stdin",
     "output_type": "stream",
     "text": [
      "First Number : 10\n",
      "Second Number : 20\n"
     ]
    },
    {
     "name": "stdout",
     "output_type": "stream",
     "text": [
      "Multiplication : 200\n",
      "Sum : 30\n"
     ]
    }
   ],
   "source": [
    "#Exercise 1: Calculate the multiplication and sum of two numbers that you accept from user\n",
    "Num1= int(input(\"First Number :\"))\n",
    "Num2=int(input(\"Second Number :\"))\n",
    "multiplication=Num1*Num2\n",
    "Sum=Num1+Num2\n",
    "print( \"Multiplication :\" , multiplication)\n",
    "print( \"Sum :\" , Sum)"
   ]
  },
  {
   "cell_type": "code",
   "execution_count": 19,
   "id": "60030cde-c265-4fb6-9a93-5ed4883b0d5d",
   "metadata": {},
   "outputs": [
    {
     "name": "stdout",
     "output_type": "stream",
     "text": [
      "Name Is James\n"
     ]
    }
   ],
   "source": [
    "# Exercise 2:Display three strings “Name”, “Is”, “James” as “Name**Is**James”\n",
    "N1=\"Name\"\n",
    "N2=\"Is\"\n",
    "N3=\"James\"\n",
    "print(N1,N2,N3)"
   ]
  },
  {
   "cell_type": "code",
   "execution_count": 23,
   "id": "01f8fbc0-3c42-4c48-a7fd-9211fd489201",
   "metadata": {},
   "outputs": [
    {
     "name": "stdout",
     "output_type": "stream",
     "text": [
      "Hello World\n"
     ]
    }
   ],
   "source": [
    "#Exercise 3: Print \"Hello World\" if a is greater than b.\n",
    "a=10\n",
    "b=5\n",
    "if a>b:\n",
    "    print(\"Hello World\")\n"
   ]
  },
  {
   "cell_type": "code",
   "execution_count": 38,
   "id": "22ede6ff-35e0-47e9-b834-e45ce055440e",
   "metadata": {},
   "outputs": [
    {
     "name": "stdin",
     "output_type": "stream",
     "text": [
      "Enter Percentage : 66\n"
     ]
    },
    {
     "name": "stdout",
     "output_type": "stream",
     "text": [
      "The Grade is  C\n"
     ]
    }
   ],
   "source": [
    "#Exercise 4: Write a program to accept percentages from the user and display the grade according to the following:\n",
    "\n",
    "#mark is greater than 90 grade: A\n",
    "#mark is between 80 and 90 grade: B\n",
    "#mark is between 60 and 80 grade: C\n",
    "#mark is below 60 grade : D \n",
    "pe=int(input(\"Enter Percentage :\"))\n",
    "if pe>=90:\n",
    "    print(\"The Grade is \",\"A\")\n",
    "elif pe>=80 and pe<90:\n",
    "    print(\"The Grade is \",\"B\")\n",
    "elif pe>=60 and pe<80:\n",
    "    print(\"The Grade is \",\"C\")\n",
    "elif pe<60:\n",
    "    print(\"The Grade is \",\"D\")\n",
    "      "
   ]
  },
  {
   "cell_type": "code",
   "execution_count": 44,
   "id": "ed06be26-63cb-47a6-96b5-a37bed0cbe26",
   "metadata": {},
   "outputs": [
    {
     "name": "stdin",
     "output_type": "stream",
     "text": [
      "Day Number : 6\n"
     ]
    },
    {
     "name": "stdout",
     "output_type": "stream",
     "text": [
      "Day Name is  Thursday\n"
     ]
    }
   ],
   "source": [
    "#Exercise 5: Write a program to accept a number from 1 to 7 and display the name of the day,\n",
    "DN=int(input(\"Day Number :\"))\n",
    "if DN==1:\n",
    "    print(\"Day Name is \",\"Saturday\")\n",
    "elif DN==2:\n",
    "    print(\"Day Name is \",\"Sunday\")\n",
    "elif DN==3:\n",
    "    print(\"Day Name is \",\"Monday\")\n",
    "elif DN==4:\n",
    "    print(\"Day Name is \",\"Tuesday\")\n",
    "elif DN==5:\n",
    "    print(\"Day Name is \",\"Wednesday\") \n",
    "elif DN==6:\n",
    "    print(\"Day Name is \",\"Thursday\")\n",
    "elif DN==7:\n",
    "    print(\"Day Name is \",\"Friday\")"
   ]
  },
  {
   "cell_type": "code",
   "execution_count": null,
   "id": "8d0f223a-9009-495b-8d86-d02dc256a909",
   "metadata": {},
   "outputs": [],
   "source": []
  }
 ],
 "metadata": {
  "kernelspec": {
   "display_name": "Python 3 (ipykernel)",
   "language": "python",
   "name": "python3"
  },
  "language_info": {
   "codemirror_mode": {
    "name": "ipython",
    "version": 3
   },
   "file_extension": ".py",
   "mimetype": "text/x-python",
   "name": "python",
   "nbconvert_exporter": "python",
   "pygments_lexer": "ipython3",
   "version": "3.11.7"
  }
 },
 "nbformat": 4,
 "nbformat_minor": 5
}
